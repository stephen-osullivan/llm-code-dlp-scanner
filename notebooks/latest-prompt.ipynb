{
 "cells": [
  {
   "cell_type": "code",
   "execution_count": null,
   "metadata": {},
   "outputs": [],
   "source": [
    "from openai import OpenAI\n",
    "\n",
    "client = OpenAI(\n",
    "    base_url = 'http://localhost:11434/v1',\n",
    "    api_key='ollama', # required, but unused\n",
    ")\n",
    "\n",
    "def get_completion(prompt):\n",
    "    response = client.chat.completions.create(\n",
    "    model=\"llama3\",\n",
    "    temperature=0,\n",
    "    max_tokens=1000,\n",
    "    messages=[\n",
    "        {\"role\": \"user\", \"content\": prompt}\n",
    "    ])\n",
    "    return response.choices[0].message.content\n",
    "\n",
    "get_completion('Hello.')\n",
    "\n",
    "with open('../prompts/prompt-current.txt', 'r') as f:\n",
    "    prompt = f.read()\n",
    "print(prompt)"
   ]
  }
 ],
 "metadata": {
  "language_info": {
   "name": "python"
  }
 },
 "nbformat": 4,
 "nbformat_minor": 2
}
