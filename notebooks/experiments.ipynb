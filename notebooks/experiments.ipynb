{
 "cells": [
  {
   "cell_type": "code",
   "execution_count": 1,
   "metadata": {},
   "outputs": [
    {
     "name": "stderr",
     "output_type": "stream",
     "text": [
      "2024-05-29 17:32:33.104 WARNING streamlit.runtime.caching.cache_data_api: No runtime found, using MemoryCacheStorageManager\n",
      "2024-05-29 17:32:33.106 WARNING streamlit.runtime.caching.cache_data_api: No runtime found, using MemoryCacheStorageManager\n",
      "2024-05-29 17:32:33.106 WARNING streamlit.runtime.caching.cache_data_api: No runtime found, using MemoryCacheStorageManager\n"
     ]
    }
   ],
   "source": [
    "import sys\n",
    "import os\n",
    "\n",
    "sys.path.append(\"..\")\n",
    "from utils import *"
   ]
  },
  {
   "cell_type": "code",
   "execution_count": 2,
   "metadata": {},
   "outputs": [],
   "source": [
    "r = download_git_repo('https://github.com/laurents/slowapi')"
   ]
  },
  {
   "cell_type": "code",
   "execution_count": 3,
   "metadata": {},
   "outputs": [
    {
     "data": {
      "text/plain": [
       "213664"
      ]
     },
     "execution_count": 3,
     "metadata": {},
     "output_type": "execute_result"
    }
   ],
   "source": [
    "rp = './temp/repos/laurents/slowapi'\n",
    "sum(f['file_size'] for f in list_repo(rp, depth=-1))"
   ]
  },
  {
   "cell_type": "code",
   "execution_count": 4,
   "metadata": {},
   "outputs": [
    {
     "data": {
      "text/plain": [
       "['HEAD',\n",
       " 'dependabot/pip/redis-4.4.4',\n",
       " 'master',\n",
       " 'publish-from-ci',\n",
       " 'renovate/appdirs-1.x',\n",
       " 'renovate/atomicwrites-1.x',\n",
       " 'renovate/colorama-0.x',\n",
       " 'renovate/dataclasses-0.x',\n",
       " 'renovate/lxml-4.x',\n",
       " 'renovate/mock-4.x',\n",
       " 'renovate/mypy-extensions-0.x',\n",
       " 'renovate/pyparsing-2.x',\n",
       " 'renovate/pypi-black-vulnerability',\n",
       " 'renovate/pypi-certifi-vulnerability',\n",
       " 'renovate/pypi-fastapi-vulnerability',\n",
       " 'renovate/pypi-idna-vulnerability',\n",
       " 'renovate/pypi-jinja2-vulnerability',\n",
       " 'renovate/pypi-joblib-vulnerability',\n",
       " 'renovate/pypi-pydantic-vulnerability',\n",
       " 'renovate/pypi-redis-vulnerability',\n",
       " 'renovate/pypi-starlette-vulnerability',\n",
       " 'renovate/pypi-tornado-vulnerability',\n",
       " 'renovate/pypi-tqdm-vulnerability',\n",
       " 'renovate/pypi-urllib3-vulnerability',\n",
       " 'renovate/pyyaml-5.x',\n",
       " 'renovate/toml-0.x',\n",
       " 'throwaway']"
      ]
     },
     "execution_count": 4,
     "metadata": {},
     "output_type": "execute_result"
    }
   ],
   "source": [
    "list_branches(rp)"
   ]
  },
  {
   "cell_type": "code",
   "execution_count": 5,
   "metadata": {},
   "outputs": [
    {
     "data": {
      "text/plain": [
       "213663"
      ]
     },
     "execution_count": 5,
     "metadata": {},
     "output_type": "execute_result"
    }
   ],
   "source": [
    "list_branches(rp)\n",
    "#switch_branch(rp, 'renovate/pypi-tornado-vulnerability')\n",
    "\n",
    "switch_branch(rp, 'renovate/pypi-jinja2-vulnerability')\n",
    "sum(f['file_size'] for f in list_repo(rp, depth=-1))"
   ]
  },
  {
   "cell_type": "code",
   "execution_count": 6,
   "metadata": {},
   "outputs": [
    {
     "data": {
      "text/plain": [
       "136542"
      ]
     },
     "execution_count": 6,
     "metadata": {},
     "output_type": "execute_result"
    }
   ],
   "source": [
    "#Repo(rp).git.pull('--rebase')\n",
    "switch_branch(rp, 'throwaway')\n",
    "sum(f['file_size'] for f in list_repo(rp, depth=-1))"
   ]
  },
  {
   "cell_type": "code",
   "execution_count": null,
   "metadata": {},
   "outputs": [],
   "source": []
  }
 ],
 "metadata": {
  "kernelspec": {
   "display_name": ".venv",
   "language": "python",
   "name": "python3"
  },
  "language_info": {
   "codemirror_mode": {
    "name": "ipython",
    "version": 3
   },
   "file_extension": ".py",
   "mimetype": "text/x-python",
   "name": "python",
   "nbconvert_exporter": "python",
   "pygments_lexer": "ipython3",
   "version": "3.10.6"
  }
 },
 "nbformat": 4,
 "nbformat_minor": 2
}
