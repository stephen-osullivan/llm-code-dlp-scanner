{
 "cells": [
  {
   "cell_type": "code",
   "execution_count": 9,
   "metadata": {},
   "outputs": [
    {
     "name": "stdout",
     "output_type": "stream",
     "text": [
      "Commit: 7bbe5cef9a331bd7bc42ac50c8b646134e77edad Author: stephen-osullivan Date: 2024-05-01 14:52:52+01:00\n",
      "Message: added langchain example\n",
      "\n",
      "\n",
      "Commit: fb5090bd99cf8177d35cb79cb8da246e9a7a9b50 Author: stephen-osullivan Date: 2024-04-22 15:10:14+01:00\n",
      "Message:  tidied up repo\n",
      "\n",
      "\n",
      "Commit: 33323a9c1c27bd947c9b22a8991e4010282011c5 Author: stephen-osullivan Date: 2024-04-22 12:04:33+01:00\n",
      "Message: added support for local docker build - gpu tested\n",
      "\n",
      "\n"
     ]
    }
   ],
   "source": [
    "from git import Repo\n",
    "\n",
    "\n",
    "repo_local_path = \"../repos/stephen-osullivan/llamacpp\"\n",
    "repo = Repo(repo_local_path)\n",
    "# show last 3 commits\n",
    "for _, commit in zip(range(3), repo.iter_commits()):\n",
    "    print(f\"Commit: {commit.hexsha}\", f\"Author: {commit.author}\", f\"Date: {commit.committed_datetime}\")\n",
    "    print(f\"Message: {commit.message}\\n\")"
   ]
  },
  {
   "cell_type": "code",
   "execution_count": 15,
   "metadata": {},
   "outputs": [
    {
     "data": {
      "text/plain": [
       "'7bbe5cef9a331bd7bc42ac50c8b646134e77edad'"
      ]
     },
     "execution_count": 15,
     "metadata": {},
     "output_type": "execute_result"
    }
   ],
   "source": [
    "head_hash = repo.commit('HEAD').hexsha\n",
    "head_hash"
   ]
  },
  {
   "cell_type": "code",
   "execution_count": 27,
   "metadata": {},
   "outputs": [
    {
     "name": "stdout",
     "output_type": "stream",
     "text": [
      "blob .gitignore 3088\n",
      "blob Dockerfile 897\n",
      "blob Makefile 875\n",
      "blob README.md 483\n",
      "blob download_model.py 231\n",
      "blob langchain_server_test.ipynb 3245\n",
      "blob llama3_llamacpp_GGUF.ipynb 43806\n",
      "blob requirements.txt 41\n",
      "tree test_scipts 137\n"
     ]
    }
   ],
   "source": [
    "commit = repo.commit('7bbe5cef9a331bd7bc42ac50c8b646134e77edad')\n",
    "\n",
    "\n",
    "for b in commit.tree.traverse(depth = 1):\n",
    "    print(b.type, b.path, b.size)\n",
    "    "
   ]
  },
  {
   "cell_type": "code",
   "execution_count": 26,
   "metadata": {},
   "outputs": [],
   "source": [
    "t = commit.tree\n",
    "t."
   ]
  },
  {
   "cell_type": "code",
   "execution_count": null,
   "metadata": {},
   "outputs": [],
   "source": []
  }
 ],
 "metadata": {
  "kernelspec": {
   "display_name": ".venv",
   "language": "python",
   "name": "python3"
  },
  "language_info": {
   "codemirror_mode": {
    "name": "ipython",
    "version": 3
   },
   "file_extension": ".py",
   "mimetype": "text/x-python",
   "name": "python",
   "nbconvert_exporter": "python",
   "pygments_lexer": "ipython3",
   "version": "3.10.6"
  }
 },
 "nbformat": 4,
 "nbformat_minor": 2
}
