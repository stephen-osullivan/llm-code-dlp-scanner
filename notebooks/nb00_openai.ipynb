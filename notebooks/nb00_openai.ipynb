{
 "cells": [
  {
   "cell_type": "markdown",
   "metadata": {},
   "source": [
    "# Using Open AI to detect data leaks in code bases"
   ]
  },
  {
   "cell_type": "code",
   "execution_count": 1,
   "metadata": {},
   "outputs": [
    {
     "data": {
      "text/plain": [
       "True"
      ]
     },
     "execution_count": 1,
     "metadata": {},
     "output_type": "execute_result"
    }
   ],
   "source": [
    "from dotenv import load_dotenv\n",
    "from openai import OpenAI\n",
    "load_dotenv()"
   ]
  },
  {
   "cell_type": "code",
   "execution_count": 2,
   "metadata": {},
   "outputs": [
    {
     "name": "stdout",
     "output_type": "stream",
     "text": [
      "ChatCompletionMessage(content=\"In the realm of code and bytes so dear,\\nLies a magical concept, both subtle and clear.\\nRecursion, a loop of a different kind,\\nA function that calls itself, intertwined.\\n\\nLike a mirror reflecting its own reflection,\\nRepeating iterations with such perfection.\\nA dance of algorithms, a graceful spin,\\nUnlocking solutions, diving deep within.\\n\\nPassing down through layers, like roots of a tree,\\nUnraveling mysteries for all to see.\\nA cycle of self-reference, ever true,\\nIn the world of programming, a powerful brew.\\n\\nSo trust in recursion, its pattern and flow,\\nFor in its elegance, solutions grow.\\nA recursive chant for those who dare,\\nTo grasp the beauty hidden in the code's lair.\", role='assistant', function_call=None, tool_calls=None)\n"
     ]
    }
   ],
   "source": [
    "\n",
    "client = OpenAI()\n",
    "\n",
    "completion = client.chat.completions.create(\n",
    "  model=\"gpt-3.5-turbo\",\n",
    "  messages=[\n",
    "    {\"role\": \"system\", \"content\": \"You are a poetic assistant, skilled in explaining complex programming concepts with creative flair.\"},\n",
    "    {\"role\": \"user\", \"content\": \"Compose a poem that explains the concept of recursion in programming.\"}\n",
    "  ]\n",
    ")\n",
    "\n",
    "print(completion.choices[0].message)"
   ]
  },
  {
   "cell_type": "code",
   "execution_count": 11,
   "metadata": {},
   "outputs": [
    {
     "name": "stdout",
     "output_type": "stream",
     "text": [
      "In the code snippet provided, there are a few potential security concerns that can be identified:\n",
      "\n",
      "1. Company Account Data: \n",
      "   - The mention of \"SCR\" (Solvency Capital Requirement) and its specific value of \"4.2bn in 2021\" could be considered sensitive company financial information related to insurance calculations. Revealing such specific financial data publicly could pose a risk.\n",
      "   - Reference to an \"api_key 1234ajfalklk\" raises concerns about potential exposure of an API key used to access certain resources. Hardcoding API keys in code can lead to security vulnerabilities if this information is publicly accessible.\n",
      "\n",
      "It's important to avoid sharing specific financial details and API keys in code that is publicly accessible, as this can potentially lead to unauthorized access or misuse of sensitive information. It's recommended to review and remove such specific details from the code before sharing it publicly.\n"
     ]
    }
   ],
   "source": [
    "# here's an example\n",
    "\n",
    "system_prompt = \"\"\"\n",
    "Your are security analyst and you're role is to scan through the files in github repos to identify leaks of confidential information. Examples of these are below:\n",
    "\n",
    "Names and Emails:\n",
    "\"Identify instances of names and email addresses that may be related to customers or employees.\n",
    "Look for patterns like 'john.doe@example.com' or 'Jane Doe <jane.doe@example.com>'.\n",
    "Consider names and emails mentioned in code comments, variable names, or string literals.\"\n",
    "\n",
    "Dates of Birth:\n",
    "\"Detect any code snippets or comments that contain dates of birth in the format DD/MM/YYYY or MM/DD/YYYY.\n",
    "Look for patterns like '1990-02-28' or '02/28/1990'.\n",
    "Consider dates mentioned in code comments, variable names, or string literals.\"\n",
    "\n",
    "Residential Addreses:\n",
    "\"Find any references to residential addresses, including street names, cities, states, or zip codes.\n",
    "Look for patterns like '123 Main St, Anytown, CA 12345' or 'Anytown, CA 12345'.\n",
    "Consider addresses mentioned in code comments, variable names, or string literals.\"\n",
    "\n",
    "Passwords:\n",
    "\"Identify hardcoded passwords, API keys, or authentication credentials that may be exposed.\n",
    "Look for patterns like 'password: mysecretpassword' or 'api_key: 1234567890abcdef'.\n",
    "Consider credentials mentioned in code comments, variable names, or string literals.\"\n",
    "Confidential Information-related prompts\n",
    "\n",
    "Company Accounts Data:\n",
    "\"Identify data relating to company accounts or sensitive internal information'.\n",
    "\n",
    "\"\"\"\n",
    "\n",
    "example1 = \"\"\"\n",
    "def fn(x):\n",
    "  # squares a number\n",
    "  # used by Donaldsons's actuarial team to calcuate the SCR\n",
    "  # the SCR was 4.2bn in 2021\n",
    "  # use the api_key 1234ajfalklk to access\n",
    "  # the function is written in python\n",
    "  return x**2\n",
    "\"\"\"\n",
    "output1 = \"\"\"\n",
    "Here's an example output:\n",
    "The code leaks information about the company:\n",
    "1) it reveals that \"Donaldson's\" Actuarial team uses this function\n",
    "2) It reveals information about the company accounts i.e. that they were 4.2bn in 2021.\n",
    "\n",
    "\"\"\"\n",
    "\n",
    "completion = client.chat.completions.create(\n",
    "  model=\"gpt-3.5-turbo\",\n",
    "  messages=[\n",
    "    {\"role\": \"system\", \"content\": system_prompt},\n",
    "    {\"role\": \"user\", \"content\": 'Please could you look for security leaks in the code base below please?'},\n",
    "    {\"role\": \"assistant\", \"content\": 'Ofcourse.'},\n",
    "    {\"role\": \"user\", \"content\": example1},\n",
    "  ]\n",
    ")\n",
    "\n",
    "print(completion.choices[0].message.content)\n"
   ]
  },
  {
   "cell_type": "code",
   "execution_count": 13,
   "metadata": {},
   "outputs": [
    {
     "name": "stdout",
     "output_type": "stream",
     "text": [
      "Based on the analysis of the code base in the provided files, here are the potential data leaks identified:\n",
      "\n",
      "1. **No significant data leaks**: The code appears to be primarily focused on a simple Streamlit app for downloading images from a search query. The code is well-structured and does not contain any obvious leaks of confidential information such as names, emails, dates of birth, residential addresses, or passwords.\n",
      "\n",
      "2. **Sensitive Information**: One potential consideration is the handling of image URLs and potentially downloaded images. It's important to ensure that the image URLs do not inadvertently expose any sensitive information or violate any usage rights. Additionally, best practices should be followed to securely handle the downloading and storage of images to prevent any data breaches.\n",
      "\n",
      "3. **Security best practices**: While the code reviewed looks clean, it's always important to follow security best practices such as input validation, sanitization, and output encoding to prevent attacks like SQL injection, Cross-Site Scripting (XSS), or other vulnerabilities.\n",
      "\n",
      "Overall, the code base appears to be well-maintained and focused on its intended functionality without any evident leaks of confidential information.\n"
     ]
    }
   ],
   "source": [
    "with open('repo1.txt', 'r') as f:\n",
    "  example2 = f.read()\n",
    "  \n",
    "completion = client.chat.completions.create(\n",
    "  model=\"gpt-3.5-turbo\",\n",
    "  messages=[\n",
    "    {\"role\": \"system\", \"content\": system_prompt},\n",
    "    {\"role\": \"user\", \"content\": \"\"\"\n",
    "    Please could you look for security leaks in the code base below please? I have seperated files using a two rows of #s, with the file name between them. \n",
    "    For instance:\n",
    "    the start og the .gitignore file is indicated as follows:\n",
    "    \n",
    "     ################################################################################\n",
    "    # repos/repo1/.gitignore\n",
    "    ################################################################################\n",
    "    .line1\n",
    "    .line2\n",
    "    etc.\n",
    "\n",
    "    Please could you reference the file when analysis for data leaks.\n",
    "\n",
    "    \"\"\"},\n",
    "    {\"role\": \"assistant\", \"content\": 'Of course.'},\n",
    "    {\"role\": \"user\", \"content\": example2},\n",
    "  ]\n",
    ")\n",
    "\n",
    "print(completion.choices[0].message.content)"
   ]
  },
  {
   "cell_type": "code",
   "execution_count": 18,
   "metadata": {},
   "outputs": [
    {
     "name": "stdout",
     "output_type": "stream",
     "text": [
      "I have identified some potential security leaks in the code base:\n",
      "\n",
      "1. In `app.py`, there is a variable `STREAMLIT_API_KEY = 'ABCC3241Q9_SK'` which appears to be an API key. API keys should not be hardcoded in the code, especially in publicly accessible repositories.\n",
      "\n",
      "2. In the file `data.txt`, there are entries that contain personal information such as names and email addresses. This type of personally identifiable information (PII) should not be exposed in code or shared publicly.\n",
      "\n",
      "It is important to review and address these security concerns to prevent any potential data breaches or unauthorized access.\n"
     ]
    }
   ],
   "source": [
    "simple_prompt = \"\"\"\n",
    "Your are security analyst and you're role is to scan through the files in github repos to identify leaks of confidential information.\n",
    "\n",
    "Please looks for emails, names of people, addresses, passwords, api keys and sensitive business data like account details.\n",
    "Please flag anything that looks like it could be a password or api key as there should be no examples of this anywhere in the code or comments.\n",
    "Please also identify any names of personally identifiable information anywhere in the code. The only case where this is acceptable is the names of the authors of the repository.\n",
    "\"\"\"\n",
    "\n",
    "with open('repo1_with_leaks.txt', 'r') as f:\n",
    "  example2 = f.read()\n",
    "  \n",
    "completion = client.chat.completions.create(\n",
    "  model=\"gpt-3.5-turbo\",\n",
    "  messages=[\n",
    "    {\"role\": \"system\", \"content\": simple_prompt},\n",
    "    {\"role\": \"user\", \"content\": \"\"\"\n",
    "    Please could you look for security leaks in the code base below please? I have seperated files using a two rows of #s, with the file name between them. \n",
    "    For instance, the .gitignore file is indicated as follows:\n",
    "    \n",
    "    ################################################################################\n",
    "    # repos/repo1/.gitignore\n",
    "    ################################################################################\n",
    "\n",
    "    Please could you reference the file when analysis for data leaks.\n",
    "\n",
    "    \"\"\"},\n",
    "    {\"role\": \"assistant\", \"content\": 'Of course.'},\n",
    "    {\"role\": \"user\", \"content\": example2},\n",
    "  ]\n",
    ")\n",
    "\n",
    "print(completion.choices[0].message.content)"
   ]
  },
  {
   "cell_type": "code",
   "execution_count": null,
   "metadata": {},
   "outputs": [],
   "source": []
  }
 ],
 "metadata": {
  "kernelspec": {
   "display_name": ".env",
   "language": "python",
   "name": "python3"
  },
  "language_info": {
   "codemirror_mode": {
    "name": "ipython",
    "version": 3
   },
   "file_extension": ".py",
   "mimetype": "text/x-python",
   "name": "python",
   "nbconvert_exporter": "python",
   "pygments_lexer": "ipython3",
   "version": "3.10.6"
  }
 },
 "nbformat": 4,
 "nbformat_minor": 2
}
