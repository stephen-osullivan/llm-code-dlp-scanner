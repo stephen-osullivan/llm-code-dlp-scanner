{
 "cells": [
  {
   "cell_type": "code",
   "execution_count": 4,
   "metadata": {},
   "outputs": [
    {
     "name": "stderr",
     "output_type": "stream",
     "text": [
      "Error loading file repos/chat-app/demo.png: Could not detect encoding for repos/chat-app/demo.png\n"
     ]
    }
   ],
   "source": [
    "\n",
    "from langchain_community.document_loaders import DirectoryLoader, TextLoader\n",
    "\n",
    "repo_path = 'repos/chat-app'\n",
    "text_loader_kwargs={'autodetect_encoding': True}\n",
    "loader = DirectoryLoader(\n",
    "    repo_path, \n",
    "    loader_cls=TextLoader, \n",
    "    loader_kwargs=text_loader_kwargs, \n",
    "    use_multithreading=True, silent_errors=True)\n",
    "docs = loader.load()"
   ]
  },
  {
   "cell_type": "code",
   "execution_count": 2,
   "metadata": {},
   "outputs": [
    {
     "name": "stdout",
     "output_type": "stream",
     "text": [
      "['repos/chat-app/requirements.txt', 'repos/chat-app/Makefile', 'repos/chat-app/Dockerfile', 'repos/chat-app/README.md', 'repos/chat-app/app.py']\n",
      "Lengths: [('repos/chat-app/requirements.txt', 60), ('repos/chat-app/Makefile', 472), ('repos/chat-app/Dockerfile', 225), ('repos/chat-app/README.md', 679), ('repos/chat-app/app.py', 4105)]\n"
     ]
    }
   ],
   "source": [
    "doc_names = [doc.metadata['source'] for doc in docs]\n",
    "print(doc_names)\n",
    "print('Lengths:', [(n, len(doc.page_content)) for n, doc in zip(doc_names, docs)])"
   ]
  },
  {
   "cell_type": "code",
   "execution_count": 3,
   "metadata": {},
   "outputs": [
    {
     "name": "stdout",
     "output_type": "stream",
     "text": [
      "['repos/chat-app/requirements.txt', 'repos/chat-app/Makefile', 'repos/chat-app/Dockerfile', 'repos/chat-app/README.md', 'repos/chat-app/app.py', 'repos/chat-app/app.py', 'repos/chat-app/app.py', 'repos/chat-app/app.py', 'repos/chat-app/app.py', 'repos/chat-app/app.py']\n",
      "Lengths: [('repos/chat-app/requirements.txt', 60), ('repos/chat-app/Makefile', 470), ('repos/chat-app/Dockerfile', 225), ('repos/chat-app/README.md', 679), ('repos/chat-app/app.py', 929), ('repos/chat-app/app.py', 929), ('repos/chat-app/app.py', 577), ('repos/chat-app/app.py', 575), ('repos/chat-app/app.py', 900), ('repos/chat-app/app.py', 399)]\n"
     ]
    }
   ],
   "source": [
    "from langchain_text_splitters import RecursiveCharacterTextSplitter\n",
    "# now we split\n",
    "\n",
    "text_splitter = RecursiveCharacterTextSplitter(chunk_size=1000, chunk_overlap=200)\n",
    "docs = text_splitter.split_documents(docs)\n",
    "doc_names = [doc.metadata['source'] for doc in docs]\n",
    "print(doc_names)\n",
    "print('Lengths:', [(n, len(doc.page_content)) for n, doc in zip(doc_names, docs)])"
   ]
  }
 ],
 "metadata": {
  "kernelspec": {
   "display_name": "Python 3",
   "language": "python",
   "name": "python3"
  },
  "language_info": {
   "codemirror_mode": {
    "name": "ipython",
    "version": 3
   },
   "file_extension": ".py",
   "mimetype": "text/x-python",
   "name": "python",
   "nbconvert_exporter": "python",
   "pygments_lexer": "ipython3",
   "version": "3.10.13"
  }
 },
 "nbformat": 4,
 "nbformat_minor": 2
}
